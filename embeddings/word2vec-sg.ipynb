{
  "nbformat": 4,
  "nbformat_minor": 0,
  "metadata": {
    "colab": {
      "provenance": [],
      "machine_shape": "hm",
      "gpuType": "L4"
    },
    "kernelspec": {
      "name": "python3",
      "display_name": "Python 3"
    },
    "language_info": {
      "name": "python"
    },
    "accelerator": "GPU"
  },
  "cells": [
    {
      "cell_type": "markdown",
      "source": [
        "# Word2Vec SG\n",
        "\n"
      ],
      "metadata": {
        "id": "cADoB-aJgC2C"
      }
    },
    {
      "cell_type": "code",
      "execution_count": 1,
      "metadata": {
        "colab": {
          "base_uri": "https://localhost:8080/"
        },
        "id": "2BcnUnR-gBLU",
        "outputId": "c56dd7c0-80c7-4cc8-b2e9-123002a07645"
      },
      "outputs": [
        {
          "output_type": "stream",
          "name": "stdout",
          "text": [
            "Requirement already satisfied: gensim in /usr/local/lib/python3.10/dist-packages (4.3.2)\n",
            "Requirement already satisfied: tqdm in /usr/local/lib/python3.10/dist-packages (4.66.2)\n",
            "Requirement already satisfied: numpy>=1.18.5 in /usr/local/lib/python3.10/dist-packages (from gensim) (1.25.2)\n",
            "Requirement already satisfied: scipy>=1.7.0 in /usr/local/lib/python3.10/dist-packages (from gensim) (1.11.4)\n",
            "Requirement already satisfied: smart-open>=1.8.1 in /usr/local/lib/python3.10/dist-packages (from gensim) (6.4.0)\n"
          ]
        }
      ],
      "source": [
        "!pip install gensim tqdm"
      ]
    },
    {
      "cell_type": "code",
      "source": [
        "from gensim.models import Word2Vec;\n",
        "import pandas;\n",
        "import re;\n",
        "from tqdm import tqdm;\n",
        "import numpy;\n",
        "\n",
        "from google.colab import drive;"
      ],
      "metadata": {
        "id": "hhdJa_wggeht"
      },
      "execution_count": 2,
      "outputs": []
    },
    {
      "cell_type": "code",
      "source": [
        "drive.mount(\"/content/drive\");"
      ],
      "metadata": {
        "colab": {
          "base_uri": "https://localhost:8080/"
        },
        "id": "Z5j-tUDDgkSP",
        "outputId": "ce7f82b9-3818-4464-b979-5d65ad7b0716"
      },
      "execution_count": 3,
      "outputs": [
        {
          "output_type": "stream",
          "name": "stdout",
          "text": [
            "Mounted at /content/drive\n"
          ]
        }
      ]
    },
    {
      "cell_type": "markdown",
      "source": [
        "## Data Loading and Preparation\n",
        "\n",
        "This part will took the dataset and load it to pandas."
      ],
      "metadata": {
        "id": "t54FyJGBgtDP"
      }
    },
    {
      "cell_type": "code",
      "source": [
        "dataframe = pandas.read_csv(\"/content/drive/MyDrive/Collab Dataset/nlp-dl-self-assignment/data.csv\");\n",
        "dataframe.head()"
      ],
      "metadata": {
        "colab": {
          "base_uri": "https://localhost:8080/",
          "height": 206
        },
        "id": "eqpkysGCgsbp",
        "outputId": "d91f22d7-cf93-4b26-d4eb-96e3208957ab"
      },
      "execution_count": 4,
      "outputs": [
        {
          "output_type": "execute_result",
          "data": {
            "text/plain": [
              "   sentimen                                              Tweet  Unnamed: 2\n",
              "0        -1  lagu bosan apa yang aku save ni huhuhuhuhuhuhu...         NaN\n",
              "1        -1  kita lanjutkan saja diam ini hingga kau dan ak...         NaN\n",
              "2         1  doa rezeki tak putus inna haa zaa larizquna ma...         NaN\n",
              "3         1  makasih loh ntar kita bagi hasil aku 99 9 sisa...         NaN\n",
              "4        -1  aku tak faham betul jenis orang malaysia yang ...         NaN"
            ],
            "text/html": [
              "\n",
              "  <div id=\"df-13ce15f8-4b48-43e0-8253-a55a005fdb0c\" class=\"colab-df-container\">\n",
              "    <div>\n",
              "<style scoped>\n",
              "    .dataframe tbody tr th:only-of-type {\n",
              "        vertical-align: middle;\n",
              "    }\n",
              "\n",
              "    .dataframe tbody tr th {\n",
              "        vertical-align: top;\n",
              "    }\n",
              "\n",
              "    .dataframe thead th {\n",
              "        text-align: right;\n",
              "    }\n",
              "</style>\n",
              "<table border=\"1\" class=\"dataframe\">\n",
              "  <thead>\n",
              "    <tr style=\"text-align: right;\">\n",
              "      <th></th>\n",
              "      <th>sentimen</th>\n",
              "      <th>Tweet</th>\n",
              "      <th>Unnamed: 2</th>\n",
              "    </tr>\n",
              "  </thead>\n",
              "  <tbody>\n",
              "    <tr>\n",
              "      <th>0</th>\n",
              "      <td>-1</td>\n",
              "      <td>lagu bosan apa yang aku save ni huhuhuhuhuhuhu...</td>\n",
              "      <td>NaN</td>\n",
              "    </tr>\n",
              "    <tr>\n",
              "      <th>1</th>\n",
              "      <td>-1</td>\n",
              "      <td>kita lanjutkan saja diam ini hingga kau dan ak...</td>\n",
              "      <td>NaN</td>\n",
              "    </tr>\n",
              "    <tr>\n",
              "      <th>2</th>\n",
              "      <td>1</td>\n",
              "      <td>doa rezeki tak putus inna haa zaa larizquna ma...</td>\n",
              "      <td>NaN</td>\n",
              "    </tr>\n",
              "    <tr>\n",
              "      <th>3</th>\n",
              "      <td>1</td>\n",
              "      <td>makasih loh ntar kita bagi hasil aku 99 9 sisa...</td>\n",
              "      <td>NaN</td>\n",
              "    </tr>\n",
              "    <tr>\n",
              "      <th>4</th>\n",
              "      <td>-1</td>\n",
              "      <td>aku tak faham betul jenis orang malaysia yang ...</td>\n",
              "      <td>NaN</td>\n",
              "    </tr>\n",
              "  </tbody>\n",
              "</table>\n",
              "</div>\n",
              "    <div class=\"colab-df-buttons\">\n",
              "\n",
              "  <div class=\"colab-df-container\">\n",
              "    <button class=\"colab-df-convert\" onclick=\"convertToInteractive('df-13ce15f8-4b48-43e0-8253-a55a005fdb0c')\"\n",
              "            title=\"Convert this dataframe to an interactive table.\"\n",
              "            style=\"display:none;\">\n",
              "\n",
              "  <svg xmlns=\"http://www.w3.org/2000/svg\" height=\"24px\" viewBox=\"0 -960 960 960\">\n",
              "    <path d=\"M120-120v-720h720v720H120Zm60-500h600v-160H180v160Zm220 220h160v-160H400v160Zm0 220h160v-160H400v160ZM180-400h160v-160H180v160Zm440 0h160v-160H620v160ZM180-180h160v-160H180v160Zm440 0h160v-160H620v160Z\"/>\n",
              "  </svg>\n",
              "    </button>\n",
              "\n",
              "  <style>\n",
              "    .colab-df-container {\n",
              "      display:flex;\n",
              "      gap: 12px;\n",
              "    }\n",
              "\n",
              "    .colab-df-convert {\n",
              "      background-color: #E8F0FE;\n",
              "      border: none;\n",
              "      border-radius: 50%;\n",
              "      cursor: pointer;\n",
              "      display: none;\n",
              "      fill: #1967D2;\n",
              "      height: 32px;\n",
              "      padding: 0 0 0 0;\n",
              "      width: 32px;\n",
              "    }\n",
              "\n",
              "    .colab-df-convert:hover {\n",
              "      background-color: #E2EBFA;\n",
              "      box-shadow: 0px 1px 2px rgba(60, 64, 67, 0.3), 0px 1px 3px 1px rgba(60, 64, 67, 0.15);\n",
              "      fill: #174EA6;\n",
              "    }\n",
              "\n",
              "    .colab-df-buttons div {\n",
              "      margin-bottom: 4px;\n",
              "    }\n",
              "\n",
              "    [theme=dark] .colab-df-convert {\n",
              "      background-color: #3B4455;\n",
              "      fill: #D2E3FC;\n",
              "    }\n",
              "\n",
              "    [theme=dark] .colab-df-convert:hover {\n",
              "      background-color: #434B5C;\n",
              "      box-shadow: 0px 1px 3px 1px rgba(0, 0, 0, 0.15);\n",
              "      filter: drop-shadow(0px 1px 2px rgba(0, 0, 0, 0.3));\n",
              "      fill: #FFFFFF;\n",
              "    }\n",
              "  </style>\n",
              "\n",
              "    <script>\n",
              "      const buttonEl =\n",
              "        document.querySelector('#df-13ce15f8-4b48-43e0-8253-a55a005fdb0c button.colab-df-convert');\n",
              "      buttonEl.style.display =\n",
              "        google.colab.kernel.accessAllowed ? 'block' : 'none';\n",
              "\n",
              "      async function convertToInteractive(key) {\n",
              "        const element = document.querySelector('#df-13ce15f8-4b48-43e0-8253-a55a005fdb0c');\n",
              "        const dataTable =\n",
              "          await google.colab.kernel.invokeFunction('convertToInteractive',\n",
              "                                                    [key], {});\n",
              "        if (!dataTable) return;\n",
              "\n",
              "        const docLinkHtml = 'Like what you see? Visit the ' +\n",
              "          '<a target=\"_blank\" href=https://colab.research.google.com/notebooks/data_table.ipynb>data table notebook</a>'\n",
              "          + ' to learn more about interactive tables.';\n",
              "        element.innerHTML = '';\n",
              "        dataTable['output_type'] = 'display_data';\n",
              "        await google.colab.output.renderOutput(dataTable, element);\n",
              "        const docLink = document.createElement('div');\n",
              "        docLink.innerHTML = docLinkHtml;\n",
              "        element.appendChild(docLink);\n",
              "      }\n",
              "    </script>\n",
              "  </div>\n",
              "\n",
              "\n",
              "<div id=\"df-a494577f-b390-4b05-b127-03805693fd02\">\n",
              "  <button class=\"colab-df-quickchart\" onclick=\"quickchart('df-a494577f-b390-4b05-b127-03805693fd02')\"\n",
              "            title=\"Suggest charts\"\n",
              "            style=\"display:none;\">\n",
              "\n",
              "<svg xmlns=\"http://www.w3.org/2000/svg\" height=\"24px\"viewBox=\"0 0 24 24\"\n",
              "     width=\"24px\">\n",
              "    <g>\n",
              "        <path d=\"M19 3H5c-1.1 0-2 .9-2 2v14c0 1.1.9 2 2 2h14c1.1 0 2-.9 2-2V5c0-1.1-.9-2-2-2zM9 17H7v-7h2v7zm4 0h-2V7h2v10zm4 0h-2v-4h2v4z\"/>\n",
              "    </g>\n",
              "</svg>\n",
              "  </button>\n",
              "\n",
              "<style>\n",
              "  .colab-df-quickchart {\n",
              "      --bg-color: #E8F0FE;\n",
              "      --fill-color: #1967D2;\n",
              "      --hover-bg-color: #E2EBFA;\n",
              "      --hover-fill-color: #174EA6;\n",
              "      --disabled-fill-color: #AAA;\n",
              "      --disabled-bg-color: #DDD;\n",
              "  }\n",
              "\n",
              "  [theme=dark] .colab-df-quickchart {\n",
              "      --bg-color: #3B4455;\n",
              "      --fill-color: #D2E3FC;\n",
              "      --hover-bg-color: #434B5C;\n",
              "      --hover-fill-color: #FFFFFF;\n",
              "      --disabled-bg-color: #3B4455;\n",
              "      --disabled-fill-color: #666;\n",
              "  }\n",
              "\n",
              "  .colab-df-quickchart {\n",
              "    background-color: var(--bg-color);\n",
              "    border: none;\n",
              "    border-radius: 50%;\n",
              "    cursor: pointer;\n",
              "    display: none;\n",
              "    fill: var(--fill-color);\n",
              "    height: 32px;\n",
              "    padding: 0;\n",
              "    width: 32px;\n",
              "  }\n",
              "\n",
              "  .colab-df-quickchart:hover {\n",
              "    background-color: var(--hover-bg-color);\n",
              "    box-shadow: 0 1px 2px rgba(60, 64, 67, 0.3), 0 1px 3px 1px rgba(60, 64, 67, 0.15);\n",
              "    fill: var(--button-hover-fill-color);\n",
              "  }\n",
              "\n",
              "  .colab-df-quickchart-complete:disabled,\n",
              "  .colab-df-quickchart-complete:disabled:hover {\n",
              "    background-color: var(--disabled-bg-color);\n",
              "    fill: var(--disabled-fill-color);\n",
              "    box-shadow: none;\n",
              "  }\n",
              "\n",
              "  .colab-df-spinner {\n",
              "    border: 2px solid var(--fill-color);\n",
              "    border-color: transparent;\n",
              "    border-bottom-color: var(--fill-color);\n",
              "    animation:\n",
              "      spin 1s steps(1) infinite;\n",
              "  }\n",
              "\n",
              "  @keyframes spin {\n",
              "    0% {\n",
              "      border-color: transparent;\n",
              "      border-bottom-color: var(--fill-color);\n",
              "      border-left-color: var(--fill-color);\n",
              "    }\n",
              "    20% {\n",
              "      border-color: transparent;\n",
              "      border-left-color: var(--fill-color);\n",
              "      border-top-color: var(--fill-color);\n",
              "    }\n",
              "    30% {\n",
              "      border-color: transparent;\n",
              "      border-left-color: var(--fill-color);\n",
              "      border-top-color: var(--fill-color);\n",
              "      border-right-color: var(--fill-color);\n",
              "    }\n",
              "    40% {\n",
              "      border-color: transparent;\n",
              "      border-right-color: var(--fill-color);\n",
              "      border-top-color: var(--fill-color);\n",
              "    }\n",
              "    60% {\n",
              "      border-color: transparent;\n",
              "      border-right-color: var(--fill-color);\n",
              "    }\n",
              "    80% {\n",
              "      border-color: transparent;\n",
              "      border-right-color: var(--fill-color);\n",
              "      border-bottom-color: var(--fill-color);\n",
              "    }\n",
              "    90% {\n",
              "      border-color: transparent;\n",
              "      border-bottom-color: var(--fill-color);\n",
              "    }\n",
              "  }\n",
              "</style>\n",
              "\n",
              "  <script>\n",
              "    async function quickchart(key) {\n",
              "      const quickchartButtonEl =\n",
              "        document.querySelector('#' + key + ' button');\n",
              "      quickchartButtonEl.disabled = true;  // To prevent multiple clicks.\n",
              "      quickchartButtonEl.classList.add('colab-df-spinner');\n",
              "      try {\n",
              "        const charts = await google.colab.kernel.invokeFunction(\n",
              "            'suggestCharts', [key], {});\n",
              "      } catch (error) {\n",
              "        console.error('Error during call to suggestCharts:', error);\n",
              "      }\n",
              "      quickchartButtonEl.classList.remove('colab-df-spinner');\n",
              "      quickchartButtonEl.classList.add('colab-df-quickchart-complete');\n",
              "    }\n",
              "    (() => {\n",
              "      let quickchartButtonEl =\n",
              "        document.querySelector('#df-a494577f-b390-4b05-b127-03805693fd02 button');\n",
              "      quickchartButtonEl.style.display =\n",
              "        google.colab.kernel.accessAllowed ? 'block' : 'none';\n",
              "    })();\n",
              "  </script>\n",
              "</div>\n",
              "    </div>\n",
              "  </div>\n"
            ],
            "application/vnd.google.colaboratory.intrinsic+json": {
              "type": "dataframe",
              "variable_name": "dataframe",
              "summary": "{\n  \"name\": \"dataframe\",\n  \"rows\": 10806,\n  \"fields\": [\n    {\n      \"column\": \"sentimen\",\n      \"properties\": {\n        \"dtype\": \"number\",\n        \"std\": 0,\n        \"min\": -1,\n        \"max\": 1,\n        \"num_unique_values\": 3,\n        \"samples\": [\n          -1,\n          1,\n          0\n        ],\n        \"semantic_type\": \"\",\n        \"description\": \"\"\n      }\n    },\n    {\n      \"column\": \"Tweet\",\n      \"properties\": {\n        \"dtype\": \"string\",\n        \"num_unique_values\": 10101,\n        \"samples\": [\n          \"aku diam sbb nk tgk hg cari or tak tapi nah punah\",\n          \"mantab aku jadi penasaran pengen liat \",\n          \"baik\"\n        ],\n        \"semantic_type\": \"\",\n        \"description\": \"\"\n      }\n    },\n    {\n      \"column\": \"Unnamed: 2\",\n      \"properties\": {\n        \"dtype\": \"number\",\n        \"std\": null,\n        \"min\": null,\n        \"max\": null,\n        \"num_unique_values\": 0,\n        \"samples\": [],\n        \"semantic_type\": \"\",\n        \"description\": \"\"\n      }\n    }\n  ]\n}"
            }
          },
          "metadata": {},
          "execution_count": 4
        }
      ]
    },
    {
      "cell_type": "markdown",
      "source": [
        "This part will pre-process the data by this methodology below:\n",
        "\n",
        "1. For every sentence within dataframe[\"Tweet\"]\n",
        "1.1 Remove punctuations from the sentence\n",
        "1.2 Split the sentence by white spaces\n",
        "1.3 Save the splitted array of words into array called \"data\""
      ],
      "metadata": {
        "id": "MpyCqLrrhWSQ"
      }
    },
    {
      "cell_type": "code",
      "source": [
        "data = [];\n",
        "\n",
        "print(\"Pre-process tweet data\")\n",
        "for sentence in tqdm(dataframe[\"Tweet\"]):\n",
        "    punct_regex = r'[^\\w\\s]';\n",
        "    sentence = re.sub(punct_regex, \"\", sentence);\n",
        "\n",
        "    splitted_sentence = sentence.split(\" \");\n",
        "    data.append(splitted_sentence);"
      ],
      "metadata": {
        "colab": {
          "base_uri": "https://localhost:8080/"
        },
        "id": "QbWQ_G2jhVY_",
        "outputId": "eb9fb1c9-8ff6-40dd-85ab-0ab26644e4e5"
      },
      "execution_count": 5,
      "outputs": [
        {
          "output_type": "stream",
          "name": "stdout",
          "text": [
            "Pre-process tweet data\n"
          ]
        },
        {
          "output_type": "stream",
          "name": "stderr",
          "text": [
            "100%|██████████| 10806/10806 [00:00<00:00, 256481.69it/s]\n"
          ]
        }
      ]
    },
    {
      "cell_type": "markdown",
      "source": [
        "## Model Training\n"
      ],
      "metadata": {
        "id": "sMjtWq6_iiZ3"
      }
    },
    {
      "cell_type": "code",
      "source": [
        "model = Word2Vec(data, vector_size = 100, window = 5, min_count = 1, workers = 4, sg = 1);"
      ],
      "metadata": {
        "id": "Ry5JRDRRie7A"
      },
      "execution_count": 6,
      "outputs": []
    },
    {
      "cell_type": "code",
      "source": [
        "model.save(\"my_w2v_sg_model.bin\")"
      ],
      "metadata": {
        "id": "VjFQHj5Xi5Gu"
      },
      "execution_count": 8,
      "outputs": []
    },
    {
      "cell_type": "markdown",
      "source": [
        "## Checking Word Embeddings"
      ],
      "metadata": {
        "id": "Jbyx2oozjXNe"
      }
    },
    {
      "cell_type": "code",
      "source": [
        "word_embedding = model.wv[\"aku\"];\n",
        "\n",
        "# Get embedding for a sentence (average of word embeddings)\n",
        "sentence_embedding = numpy.mean([model.wv[word] for word in sentence.split()], axis=0)\n",
        "\n",
        "# Print embeddings\n",
        "print(\"Embedding for 'aku':\", word_embedding)\n",
        "print(\"Embedding for sentence:\", sentence_embedding)"
      ],
      "metadata": {
        "colab": {
          "base_uri": "https://localhost:8080/"
        },
        "id": "i3dDMPvIjaiQ",
        "outputId": "a2388df6-8058-4254-e1c5-a8e8d1b3c8d5"
      },
      "execution_count": 9,
      "outputs": [
        {
          "output_type": "stream",
          "name": "stdout",
          "text": [
            "Embedding for 'aku': [ 2.80529782e-02 -2.01860338e-01  1.85871080e-01  1.21066041e-01\n",
            "  1.73905253e-01 -3.60084236e-01  5.15856259e-02  7.39280462e-01\n",
            " -8.29851851e-02 -2.78027624e-01 -2.20002666e-01 -4.55882132e-01\n",
            " -3.51089507e-01  6.20992541e-01  3.14508080e-01 -7.05875903e-02\n",
            "  2.83847481e-01 -9.52904969e-02  1.01032056e-01 -2.73452938e-01\n",
            "  5.88502944e-01  3.41900475e-02  6.60919473e-02 -5.53634703e-01\n",
            "  2.23835886e-01  7.59887025e-02 -3.24274212e-01  2.03074202e-01\n",
            "  3.06435209e-02  1.93111628e-01  6.11556828e-01 -2.70116538e-01\n",
            " -1.37637213e-01 -3.95088255e-01  1.23566896e-01  8.88095275e-02\n",
            "  2.12485626e-01  1.85230702e-01  2.26905420e-01  2.15040222e-02\n",
            "  3.82183678e-02 -4.00576413e-01 -2.38323614e-01 -1.05200902e-01\n",
            " -1.77715003e-01  5.47952890e-01  1.20513245e-01 -1.49101317e-01\n",
            "  2.44405627e-01  1.49211600e-01  5.12457371e-01 -1.17206909e-01\n",
            " -5.15061542e-02 -2.79403925e-01  1.02688603e-01  5.07594943e-01\n",
            "  4.56070632e-01  2.27029964e-01 -2.07125157e-01  2.55753219e-01\n",
            " -5.51173568e-01  1.23851515e-01  2.60746032e-01 -1.34528100e-01\n",
            " -2.76649684e-01  3.96182686e-01  8.98433253e-02  3.87178324e-02\n",
            " -2.55081445e-01  6.93382204e-01 -1.01276144e-01 -3.30217540e-01\n",
            "  5.31813979e-01 -5.94207784e-03  3.27666581e-01 -4.89745796e-01\n",
            " -1.08705111e-01 -9.59986895e-02 -4.00054008e-02  2.53698062e-02\n",
            " -5.25658607e-01 -1.29979834e-01 -5.75241297e-02  4.27825600e-01\n",
            "  1.59540087e-01  1.65258796e-04  2.74697453e-01 -4.20561573e-03\n",
            "  3.18230152e-01  1.01991624e-01  1.31906614e-01 -1.03532672e-01\n",
            "  2.50586808e-01 -3.34014028e-01  1.97810873e-01  1.02796622e-01\n",
            "  1.78732574e-01 -1.26742274e-01 -1.07593900e-02  2.53200084e-01]\n",
            "Embedding for sentence: [-0.05123519 -0.00702597  0.00977245  0.10983485  0.17385831 -0.3920197\n",
            "  0.12846898  0.6658351   0.02891056 -0.26454157 -0.11426182 -0.4236815\n",
            " -0.19547802  0.42999825  0.22001939 -0.17038861  0.2804287  -0.20461449\n",
            "  0.21928637 -0.32254523  0.44069165  0.04819873  0.06814764 -0.3078187\n",
            "  0.06473427  0.01809755 -0.32035068  0.0352836  -0.07503531  0.08386747\n",
            "  0.50284445 -0.02124983  0.09457883 -0.32994017  0.02485507  0.11711134\n",
            "  0.02847915  0.23925047  0.09223296 -0.20796373 -0.01821739 -0.32510284\n",
            " -0.0295677   0.02606032 -0.03977701  0.30005896 -0.11748199 -0.08102997\n",
            "  0.19068602  0.15590121  0.20325549  0.03851694 -0.0188245  -0.20792928\n",
            "  0.05596949  0.26135054  0.20313838 -0.00866366 -0.20486705  0.14262673\n",
            " -0.16683927  0.21739621  0.17902237  0.03503365 -0.20478734  0.2563296\n",
            "  0.14596668  0.13540569 -0.2616821   0.3905559   0.09837653 -0.19159773\n",
            "  0.32172856  0.0195147   0.4437235  -0.1765017   0.0517867   0.03715319\n",
            " -0.00614151 -0.09995058 -0.37596518 -0.12617293  0.05852383  0.42234612\n",
            "  0.04992969  0.01306006  0.30516368  0.14334342  0.31933537  0.13000265\n",
            "  0.23171127 -0.00231549  0.17551988 -0.08308739  0.19462165  0.10186891\n",
            "  0.02110143 -0.07071324 -0.11881854  0.16238168]\n"
          ]
        }
      ]
    },
    {
      "cell_type": "markdown",
      "source": [
        "# How to use pre-trained bin model"
      ],
      "metadata": {
        "id": "BNeOMePukCEh"
      }
    },
    {
      "cell_type": "code",
      "source": [
        "model = Word2Vec.load(\"/content/my_w2v_sg_model.bin\");\n",
        "\n",
        "word_embedding = model.wv[\"hahahaha\"];\n",
        "\n",
        "# Get embedding for a sentence (average of word embeddings)\n",
        "sentence_embedding = numpy.mean([model.wv[word] for word in sentence.split()], axis=0)\n",
        "\n",
        "# Print embeddings\n",
        "print(\"Embedding for 'hahahaha':\", word_embedding)\n",
        "print(\"Embedding for sentence:\", sentence_embedding)"
      ],
      "metadata": {
        "colab": {
          "base_uri": "https://localhost:8080/"
        },
        "id": "uS5Z7sgUkD_U",
        "outputId": "3d6e28e8-44a9-40f6-f03e-0a44a49f9568"
      },
      "execution_count": 10,
      "outputs": [
        {
          "output_type": "stream",
          "name": "stdout",
          "text": [
            "Embedding for 'hahahaha': [-0.02735731 -0.04366842  0.04199246  0.10112153  0.15374963 -0.3749978\n",
            "  0.10907348  0.71071625  0.04442959 -0.23570073 -0.12191113 -0.47278842\n",
            " -0.24139255  0.47134867  0.15190949 -0.17695272  0.21030214 -0.3224433\n",
            "  0.3013342  -0.31315416  0.52654153  0.0868585  -0.00866809 -0.23811096\n",
            " -0.01299523 -0.05840783 -0.27526793 -0.02092444 -0.03872823  0.06490429\n",
            "  0.5262484   0.0300098   0.0276872  -0.22240056  0.00500045  0.128842\n",
            "  0.08136595  0.19340341  0.11672094 -0.31441796 -0.07558413 -0.40524298\n",
            " -0.03337855  0.0023888  -0.05432773  0.34469774 -0.19064851 -0.02797622\n",
            "  0.20548746  0.13359646  0.17559344 -0.02533123  0.06475351 -0.24799053\n",
            "  0.09277237  0.2976737   0.19101527  0.00597473 -0.21278702  0.18598847\n",
            " -0.24295624  0.21104486  0.0141263  -0.02148353 -0.1905195   0.23202632\n",
            "  0.10409236  0.14210537 -0.24558325  0.37046152  0.03943832 -0.18164098\n",
            "  0.36386368  0.00384879  0.37738422 -0.17973092  0.03788767  0.04176807\n",
            " -0.02242067 -0.1189393  -0.36767033 -0.12131821  0.00570981  0.37001032\n",
            "  0.09855292  0.05775622  0.26620018  0.22195038  0.35310435  0.14234029\n",
            "  0.15508616  0.02657008  0.15421332 -0.0448967   0.17454377  0.15172626\n",
            " -0.02305808 -0.15246731 -0.03765908  0.20541237]\n",
            "Embedding for sentence: [-0.05123519 -0.00702597  0.00977245  0.10983485  0.17385831 -0.3920197\n",
            "  0.12846898  0.6658351   0.02891056 -0.26454157 -0.11426182 -0.4236815\n",
            " -0.19547802  0.42999825  0.22001939 -0.17038861  0.2804287  -0.20461449\n",
            "  0.21928637 -0.32254523  0.44069165  0.04819873  0.06814764 -0.3078187\n",
            "  0.06473427  0.01809755 -0.32035068  0.0352836  -0.07503531  0.08386747\n",
            "  0.50284445 -0.02124983  0.09457883 -0.32994017  0.02485507  0.11711134\n",
            "  0.02847915  0.23925047  0.09223296 -0.20796373 -0.01821739 -0.32510284\n",
            " -0.0295677   0.02606032 -0.03977701  0.30005896 -0.11748199 -0.08102997\n",
            "  0.19068602  0.15590121  0.20325549  0.03851694 -0.0188245  -0.20792928\n",
            "  0.05596949  0.26135054  0.20313838 -0.00866366 -0.20486705  0.14262673\n",
            " -0.16683927  0.21739621  0.17902237  0.03503365 -0.20478734  0.2563296\n",
            "  0.14596668  0.13540569 -0.2616821   0.3905559   0.09837653 -0.19159773\n",
            "  0.32172856  0.0195147   0.4437235  -0.1765017   0.0517867   0.03715319\n",
            " -0.00614151 -0.09995058 -0.37596518 -0.12617293  0.05852383  0.42234612\n",
            "  0.04992969  0.01306006  0.30516368  0.14334342  0.31933537  0.13000265\n",
            "  0.23171127 -0.00231549  0.17551988 -0.08308739  0.19462165  0.10186891\n",
            "  0.02110143 -0.07071324 -0.11881854  0.16238168]\n"
          ]
        }
      ]
    }
  ]
}