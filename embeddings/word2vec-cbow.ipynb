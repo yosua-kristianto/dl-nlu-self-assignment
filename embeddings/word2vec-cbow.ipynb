{
  "nbformat": 4,
  "nbformat_minor": 0,
  "metadata": {
    "colab": {
      "provenance": [],
      "machine_shape": "hm",
      "gpuType": "L4"
    },
    "kernelspec": {
      "name": "python3",
      "display_name": "Python 3"
    },
    "language_info": {
      "name": "python"
    },
    "accelerator": "GPU"
  },
  "cells": [
    {
      "cell_type": "markdown",
      "source": [
        "# Word2Vec CBOW\n",
        "\n"
      ],
      "metadata": {
        "id": "cADoB-aJgC2C"
      }
    },
    {
      "cell_type": "code",
      "execution_count": 1,
      "metadata": {
        "colab": {
          "base_uri": "https://localhost:8080/"
        },
        "id": "2BcnUnR-gBLU",
        "outputId": "824e2288-5dda-4c5c-b494-188d18a48f7c"
      },
      "outputs": [
        {
          "output_type": "stream",
          "name": "stdout",
          "text": [
            "Requirement already satisfied: gensim in /usr/local/lib/python3.10/dist-packages (4.3.2)\n",
            "Requirement already satisfied: tqdm in /usr/local/lib/python3.10/dist-packages (4.66.2)\n",
            "Requirement already satisfied: numpy>=1.18.5 in /usr/local/lib/python3.10/dist-packages (from gensim) (1.25.2)\n",
            "Requirement already satisfied: scipy>=1.7.0 in /usr/local/lib/python3.10/dist-packages (from gensim) (1.11.4)\n",
            "Requirement already satisfied: smart-open>=1.8.1 in /usr/local/lib/python3.10/dist-packages (from gensim) (6.4.0)\n"
          ]
        }
      ],
      "source": [
        "!pip install gensim tqdm"
      ]
    },
    {
      "cell_type": "code",
      "source": [
        "from gensim.models import Word2Vec;\n",
        "import pandas;\n",
        "import re;\n",
        "from tqdm import tqdm;\n",
        "import numpy;\n",
        "\n",
        "from google.colab import drive;"
      ],
      "metadata": {
        "id": "hhdJa_wggeht"
      },
      "execution_count": 2,
      "outputs": []
    },
    {
      "cell_type": "code",
      "source": [
        "drive.mount(\"/content/drive\");"
      ],
      "metadata": {
        "colab": {
          "base_uri": "https://localhost:8080/"
        },
        "id": "Z5j-tUDDgkSP",
        "outputId": "7232ae9d-e109-4f7c-c738-0970e5bc1cdb"
      },
      "execution_count": 3,
      "outputs": [
        {
          "output_type": "stream",
          "name": "stdout",
          "text": [
            "Mounted at /content/drive\n"
          ]
        }
      ]
    },
    {
      "cell_type": "markdown",
      "source": [
        "## Data Loading and Preparation\n",
        "\n",
        "This part will took the dataset and load it to pandas."
      ],
      "metadata": {
        "id": "t54FyJGBgtDP"
      }
    },
    {
      "cell_type": "code",
      "source": [
        "dataframe = pandas.read_csv(\"/content/drive/MyDrive/Collab Dataset/nlp-dl-self-assignment/data.csv\");\n",
        "dataframe.head()"
      ],
      "metadata": {
        "colab": {
          "base_uri": "https://localhost:8080/",
          "height": 206
        },
        "id": "eqpkysGCgsbp",
        "outputId": "ff812363-1714-4a99-9fa0-e3619f287184"
      },
      "execution_count": 4,
      "outputs": [
        {
          "output_type": "execute_result",
          "data": {
            "text/plain": [
              "   sentimen                                              Tweet  Unnamed: 2\n",
              "0        -1  lagu bosan apa yang aku save ni huhuhuhuhuhuhu...         NaN\n",
              "1        -1  kita lanjutkan saja diam ini hingga kau dan ak...         NaN\n",
              "2         1  doa rezeki tak putus inna haa zaa larizquna ma...         NaN\n",
              "3         1  makasih loh ntar kita bagi hasil aku 99 9 sisa...         NaN\n",
              "4        -1  aku tak faham betul jenis orang malaysia yang ...         NaN"
            ],
            "text/html": [
              "\n",
              "  <div id=\"df-ca304cac-04af-4e3e-960e-25debdc4a62b\" class=\"colab-df-container\">\n",
              "    <div>\n",
              "<style scoped>\n",
              "    .dataframe tbody tr th:only-of-type {\n",
              "        vertical-align: middle;\n",
              "    }\n",
              "\n",
              "    .dataframe tbody tr th {\n",
              "        vertical-align: top;\n",
              "    }\n",
              "\n",
              "    .dataframe thead th {\n",
              "        text-align: right;\n",
              "    }\n",
              "</style>\n",
              "<table border=\"1\" class=\"dataframe\">\n",
              "  <thead>\n",
              "    <tr style=\"text-align: right;\">\n",
              "      <th></th>\n",
              "      <th>sentimen</th>\n",
              "      <th>Tweet</th>\n",
              "      <th>Unnamed: 2</th>\n",
              "    </tr>\n",
              "  </thead>\n",
              "  <tbody>\n",
              "    <tr>\n",
              "      <th>0</th>\n",
              "      <td>-1</td>\n",
              "      <td>lagu bosan apa yang aku save ni huhuhuhuhuhuhu...</td>\n",
              "      <td>NaN</td>\n",
              "    </tr>\n",
              "    <tr>\n",
              "      <th>1</th>\n",
              "      <td>-1</td>\n",
              "      <td>kita lanjutkan saja diam ini hingga kau dan ak...</td>\n",
              "      <td>NaN</td>\n",
              "    </tr>\n",
              "    <tr>\n",
              "      <th>2</th>\n",
              "      <td>1</td>\n",
              "      <td>doa rezeki tak putus inna haa zaa larizquna ma...</td>\n",
              "      <td>NaN</td>\n",
              "    </tr>\n",
              "    <tr>\n",
              "      <th>3</th>\n",
              "      <td>1</td>\n",
              "      <td>makasih loh ntar kita bagi hasil aku 99 9 sisa...</td>\n",
              "      <td>NaN</td>\n",
              "    </tr>\n",
              "    <tr>\n",
              "      <th>4</th>\n",
              "      <td>-1</td>\n",
              "      <td>aku tak faham betul jenis orang malaysia yang ...</td>\n",
              "      <td>NaN</td>\n",
              "    </tr>\n",
              "  </tbody>\n",
              "</table>\n",
              "</div>\n",
              "    <div class=\"colab-df-buttons\">\n",
              "\n",
              "  <div class=\"colab-df-container\">\n",
              "    <button class=\"colab-df-convert\" onclick=\"convertToInteractive('df-ca304cac-04af-4e3e-960e-25debdc4a62b')\"\n",
              "            title=\"Convert this dataframe to an interactive table.\"\n",
              "            style=\"display:none;\">\n",
              "\n",
              "  <svg xmlns=\"http://www.w3.org/2000/svg\" height=\"24px\" viewBox=\"0 -960 960 960\">\n",
              "    <path d=\"M120-120v-720h720v720H120Zm60-500h600v-160H180v160Zm220 220h160v-160H400v160Zm0 220h160v-160H400v160ZM180-400h160v-160H180v160Zm440 0h160v-160H620v160ZM180-180h160v-160H180v160Zm440 0h160v-160H620v160Z\"/>\n",
              "  </svg>\n",
              "    </button>\n",
              "\n",
              "  <style>\n",
              "    .colab-df-container {\n",
              "      display:flex;\n",
              "      gap: 12px;\n",
              "    }\n",
              "\n",
              "    .colab-df-convert {\n",
              "      background-color: #E8F0FE;\n",
              "      border: none;\n",
              "      border-radius: 50%;\n",
              "      cursor: pointer;\n",
              "      display: none;\n",
              "      fill: #1967D2;\n",
              "      height: 32px;\n",
              "      padding: 0 0 0 0;\n",
              "      width: 32px;\n",
              "    }\n",
              "\n",
              "    .colab-df-convert:hover {\n",
              "      background-color: #E2EBFA;\n",
              "      box-shadow: 0px 1px 2px rgba(60, 64, 67, 0.3), 0px 1px 3px 1px rgba(60, 64, 67, 0.15);\n",
              "      fill: #174EA6;\n",
              "    }\n",
              "\n",
              "    .colab-df-buttons div {\n",
              "      margin-bottom: 4px;\n",
              "    }\n",
              "\n",
              "    [theme=dark] .colab-df-convert {\n",
              "      background-color: #3B4455;\n",
              "      fill: #D2E3FC;\n",
              "    }\n",
              "\n",
              "    [theme=dark] .colab-df-convert:hover {\n",
              "      background-color: #434B5C;\n",
              "      box-shadow: 0px 1px 3px 1px rgba(0, 0, 0, 0.15);\n",
              "      filter: drop-shadow(0px 1px 2px rgba(0, 0, 0, 0.3));\n",
              "      fill: #FFFFFF;\n",
              "    }\n",
              "  </style>\n",
              "\n",
              "    <script>\n",
              "      const buttonEl =\n",
              "        document.querySelector('#df-ca304cac-04af-4e3e-960e-25debdc4a62b button.colab-df-convert');\n",
              "      buttonEl.style.display =\n",
              "        google.colab.kernel.accessAllowed ? 'block' : 'none';\n",
              "\n",
              "      async function convertToInteractive(key) {\n",
              "        const element = document.querySelector('#df-ca304cac-04af-4e3e-960e-25debdc4a62b');\n",
              "        const dataTable =\n",
              "          await google.colab.kernel.invokeFunction('convertToInteractive',\n",
              "                                                    [key], {});\n",
              "        if (!dataTable) return;\n",
              "\n",
              "        const docLinkHtml = 'Like what you see? Visit the ' +\n",
              "          '<a target=\"_blank\" href=https://colab.research.google.com/notebooks/data_table.ipynb>data table notebook</a>'\n",
              "          + ' to learn more about interactive tables.';\n",
              "        element.innerHTML = '';\n",
              "        dataTable['output_type'] = 'display_data';\n",
              "        await google.colab.output.renderOutput(dataTable, element);\n",
              "        const docLink = document.createElement('div');\n",
              "        docLink.innerHTML = docLinkHtml;\n",
              "        element.appendChild(docLink);\n",
              "      }\n",
              "    </script>\n",
              "  </div>\n",
              "\n",
              "\n",
              "<div id=\"df-563d80ca-f8ec-416c-b277-ba12b9be415e\">\n",
              "  <button class=\"colab-df-quickchart\" onclick=\"quickchart('df-563d80ca-f8ec-416c-b277-ba12b9be415e')\"\n",
              "            title=\"Suggest charts\"\n",
              "            style=\"display:none;\">\n",
              "\n",
              "<svg xmlns=\"http://www.w3.org/2000/svg\" height=\"24px\"viewBox=\"0 0 24 24\"\n",
              "     width=\"24px\">\n",
              "    <g>\n",
              "        <path d=\"M19 3H5c-1.1 0-2 .9-2 2v14c0 1.1.9 2 2 2h14c1.1 0 2-.9 2-2V5c0-1.1-.9-2-2-2zM9 17H7v-7h2v7zm4 0h-2V7h2v10zm4 0h-2v-4h2v4z\"/>\n",
              "    </g>\n",
              "</svg>\n",
              "  </button>\n",
              "\n",
              "<style>\n",
              "  .colab-df-quickchart {\n",
              "      --bg-color: #E8F0FE;\n",
              "      --fill-color: #1967D2;\n",
              "      --hover-bg-color: #E2EBFA;\n",
              "      --hover-fill-color: #174EA6;\n",
              "      --disabled-fill-color: #AAA;\n",
              "      --disabled-bg-color: #DDD;\n",
              "  }\n",
              "\n",
              "  [theme=dark] .colab-df-quickchart {\n",
              "      --bg-color: #3B4455;\n",
              "      --fill-color: #D2E3FC;\n",
              "      --hover-bg-color: #434B5C;\n",
              "      --hover-fill-color: #FFFFFF;\n",
              "      --disabled-bg-color: #3B4455;\n",
              "      --disabled-fill-color: #666;\n",
              "  }\n",
              "\n",
              "  .colab-df-quickchart {\n",
              "    background-color: var(--bg-color);\n",
              "    border: none;\n",
              "    border-radius: 50%;\n",
              "    cursor: pointer;\n",
              "    display: none;\n",
              "    fill: var(--fill-color);\n",
              "    height: 32px;\n",
              "    padding: 0;\n",
              "    width: 32px;\n",
              "  }\n",
              "\n",
              "  .colab-df-quickchart:hover {\n",
              "    background-color: var(--hover-bg-color);\n",
              "    box-shadow: 0 1px 2px rgba(60, 64, 67, 0.3), 0 1px 3px 1px rgba(60, 64, 67, 0.15);\n",
              "    fill: var(--button-hover-fill-color);\n",
              "  }\n",
              "\n",
              "  .colab-df-quickchart-complete:disabled,\n",
              "  .colab-df-quickchart-complete:disabled:hover {\n",
              "    background-color: var(--disabled-bg-color);\n",
              "    fill: var(--disabled-fill-color);\n",
              "    box-shadow: none;\n",
              "  }\n",
              "\n",
              "  .colab-df-spinner {\n",
              "    border: 2px solid var(--fill-color);\n",
              "    border-color: transparent;\n",
              "    border-bottom-color: var(--fill-color);\n",
              "    animation:\n",
              "      spin 1s steps(1) infinite;\n",
              "  }\n",
              "\n",
              "  @keyframes spin {\n",
              "    0% {\n",
              "      border-color: transparent;\n",
              "      border-bottom-color: var(--fill-color);\n",
              "      border-left-color: var(--fill-color);\n",
              "    }\n",
              "    20% {\n",
              "      border-color: transparent;\n",
              "      border-left-color: var(--fill-color);\n",
              "      border-top-color: var(--fill-color);\n",
              "    }\n",
              "    30% {\n",
              "      border-color: transparent;\n",
              "      border-left-color: var(--fill-color);\n",
              "      border-top-color: var(--fill-color);\n",
              "      border-right-color: var(--fill-color);\n",
              "    }\n",
              "    40% {\n",
              "      border-color: transparent;\n",
              "      border-right-color: var(--fill-color);\n",
              "      border-top-color: var(--fill-color);\n",
              "    }\n",
              "    60% {\n",
              "      border-color: transparent;\n",
              "      border-right-color: var(--fill-color);\n",
              "    }\n",
              "    80% {\n",
              "      border-color: transparent;\n",
              "      border-right-color: var(--fill-color);\n",
              "      border-bottom-color: var(--fill-color);\n",
              "    }\n",
              "    90% {\n",
              "      border-color: transparent;\n",
              "      border-bottom-color: var(--fill-color);\n",
              "    }\n",
              "  }\n",
              "</style>\n",
              "\n",
              "  <script>\n",
              "    async function quickchart(key) {\n",
              "      const quickchartButtonEl =\n",
              "        document.querySelector('#' + key + ' button');\n",
              "      quickchartButtonEl.disabled = true;  // To prevent multiple clicks.\n",
              "      quickchartButtonEl.classList.add('colab-df-spinner');\n",
              "      try {\n",
              "        const charts = await google.colab.kernel.invokeFunction(\n",
              "            'suggestCharts', [key], {});\n",
              "      } catch (error) {\n",
              "        console.error('Error during call to suggestCharts:', error);\n",
              "      }\n",
              "      quickchartButtonEl.classList.remove('colab-df-spinner');\n",
              "      quickchartButtonEl.classList.add('colab-df-quickchart-complete');\n",
              "    }\n",
              "    (() => {\n",
              "      let quickchartButtonEl =\n",
              "        document.querySelector('#df-563d80ca-f8ec-416c-b277-ba12b9be415e button');\n",
              "      quickchartButtonEl.style.display =\n",
              "        google.colab.kernel.accessAllowed ? 'block' : 'none';\n",
              "    })();\n",
              "  </script>\n",
              "</div>\n",
              "    </div>\n",
              "  </div>\n"
            ],
            "application/vnd.google.colaboratory.intrinsic+json": {
              "type": "dataframe",
              "variable_name": "dataframe",
              "summary": "{\n  \"name\": \"dataframe\",\n  \"rows\": 10806,\n  \"fields\": [\n    {\n      \"column\": \"sentimen\",\n      \"properties\": {\n        \"dtype\": \"number\",\n        \"std\": 0,\n        \"min\": -1,\n        \"max\": 1,\n        \"num_unique_values\": 3,\n        \"samples\": [\n          -1,\n          1,\n          0\n        ],\n        \"semantic_type\": \"\",\n        \"description\": \"\"\n      }\n    },\n    {\n      \"column\": \"Tweet\",\n      \"properties\": {\n        \"dtype\": \"string\",\n        \"num_unique_values\": 10101,\n        \"samples\": [\n          \"aku diam sbb nk tgk hg cari or tak tapi nah punah\",\n          \"mantab aku jadi penasaran pengen liat \",\n          \"baik\"\n        ],\n        \"semantic_type\": \"\",\n        \"description\": \"\"\n      }\n    },\n    {\n      \"column\": \"Unnamed: 2\",\n      \"properties\": {\n        \"dtype\": \"number\",\n        \"std\": null,\n        \"min\": null,\n        \"max\": null,\n        \"num_unique_values\": 0,\n        \"samples\": [],\n        \"semantic_type\": \"\",\n        \"description\": \"\"\n      }\n    }\n  ]\n}"
            }
          },
          "metadata": {},
          "execution_count": 4
        }
      ]
    },
    {
      "cell_type": "markdown",
      "source": [
        "This part will pre-process the data by this methodology below:\n",
        "\n",
        "1. For every sentence within dataframe[\"Tweet\"]\n",
        "1.1 Remove punctuations from the sentence\n",
        "1.2 Split the sentence by white spaces\n",
        "1.3 Save the splitted array of words into array called \"data\""
      ],
      "metadata": {
        "id": "MpyCqLrrhWSQ"
      }
    },
    {
      "cell_type": "code",
      "source": [
        "data = [];\n",
        "\n",
        "print(\"Pre-process tweet data\")\n",
        "for sentence in tqdm(dataframe[\"Tweet\"]):\n",
        "    punct_regex = r'[^\\w\\s]';\n",
        "    sentence = re.sub(punct_regex, \"\", sentence);\n",
        "\n",
        "    splitted_sentence = sentence.split(\" \");\n",
        "    data.append(splitted_sentence);"
      ],
      "metadata": {
        "colab": {
          "base_uri": "https://localhost:8080/"
        },
        "id": "QbWQ_G2jhVY_",
        "outputId": "34abaf42-1e00-4bcc-d5d3-0b00e96c5422"
      },
      "execution_count": 5,
      "outputs": [
        {
          "output_type": "stream",
          "name": "stdout",
          "text": [
            "Pre-process tweet data\n"
          ]
        },
        {
          "output_type": "stream",
          "name": "stderr",
          "text": [
            "100%|██████████| 10806/10806 [00:00<00:00, 250835.12it/s]\n"
          ]
        }
      ]
    },
    {
      "cell_type": "markdown",
      "source": [
        "## Model Training\n"
      ],
      "metadata": {
        "id": "sMjtWq6_iiZ3"
      }
    },
    {
      "cell_type": "code",
      "source": [
        "model = Word2Vec(data, vector_size = 100, window = 5, min_count = 1, workers = 4, sg = 0);"
      ],
      "metadata": {
        "id": "Ry5JRDRRie7A"
      },
      "execution_count": 6,
      "outputs": []
    },
    {
      "cell_type": "code",
      "source": [
        "model.save(\"my_w2v_cbow_model.bin\")"
      ],
      "metadata": {
        "id": "VjFQHj5Xi5Gu"
      },
      "execution_count": 7,
      "outputs": []
    },
    {
      "cell_type": "markdown",
      "source": [
        "## Checking Word Embeddings"
      ],
      "metadata": {
        "id": "Jbyx2oozjXNe"
      }
    },
    {
      "cell_type": "code",
      "source": [
        "word_embedding = model.wv[\"aku\"];\n",
        "\n",
        "# Get embedding for a sentence (average of word embeddings)\n",
        "sentence_embedding = numpy.mean([model.wv[word] for word in sentence.split()], axis=0)\n",
        "\n",
        "# Print embeddings\n",
        "print(\"Embedding for 'aku':\", word_embedding)\n",
        "print(\"Embedding for sentence:\", sentence_embedding)"
      ],
      "metadata": {
        "colab": {
          "base_uri": "https://localhost:8080/"
        },
        "id": "i3dDMPvIjaiQ",
        "outputId": "c925b19f-86e8-417a-afd6-f62ad5eb5832"
      },
      "execution_count": 8,
      "outputs": [
        {
          "output_type": "stream",
          "name": "stdout",
          "text": [
            "Embedding for 'aku': [-7.0697367e-01  4.7030479e-01  9.6763887e-02  1.0746889e+00\n",
            "  8.1333882e-01 -2.1019027e+00  2.1456613e-01  3.1800764e+00\n",
            " -7.5135279e-01 -1.2411007e+00 -8.4103519e-01 -1.9404410e+00\n",
            " -7.1374577e-01  1.8925910e+00  1.0097566e+00 -6.3822842e-01\n",
            "  9.0855896e-01 -1.4958897e+00  4.2479977e-01 -2.0287948e+00\n",
            "  1.3261129e+00  6.0954195e-01  8.7748927e-01 -9.7576475e-01\n",
            "  2.0769100e-01  2.4843700e-01 -1.1233425e+00  4.8612702e-01\n",
            " -9.2332780e-01  6.6354734e-01  2.2373037e+00 -1.9914128e-01\n",
            "  2.4516624e-01 -1.5450888e+00 -1.2155213e-01  7.7873617e-01\n",
            "  8.6646074e-01  3.5256186e-01  8.7979174e-01 -1.3422451e+00\n",
            " -3.7881047e-01 -1.6048138e+00 -8.4712243e-01 -3.7954688e-01\n",
            " -4.3819312e-02  4.7392389e-01 -4.8253146e-01 -1.9983907e-01\n",
            "  8.4360981e-01  8.6481178e-01  1.5872471e+00 -9.9135834e-01\n",
            "  2.8546140e-02 -1.1858507e+00 -7.7179343e-02  9.3250787e-01\n",
            "  1.0660596e+00  6.8558186e-02 -3.5738575e-01  1.1303509e+00\n",
            " -9.4266677e-01  6.6170841e-01 -1.8496683e-02 -1.0765434e-01\n",
            " -1.1229097e+00  1.5114712e+00  1.0487177e+00  5.5069697e-01\n",
            " -1.7416233e+00  1.8961120e+00 -1.4522161e-01 -4.0173557e-01\n",
            "  1.6169231e+00 -1.8722137e-03  1.1966313e+00 -7.2215772e-01\n",
            " -3.6915481e-01  3.3408129e-01 -2.9835105e-01 -2.2045377e-01\n",
            " -1.9282814e+00 -4.2194170e-01 -9.8768383e-01  1.4634506e+00\n",
            "  2.3857898e-01 -1.4393449e-01  1.1823537e+00  8.5281157e-01\n",
            "  1.9234036e+00  7.9943997e-01  5.8221519e-01  1.4318794e-01\n",
            "  1.0316218e+00 -1.9648145e-01  1.4515743e+00  1.2459623e+00\n",
            "  5.2242213e-01 -1.0250080e+00 -3.4252334e-02  2.4393483e-01]\n",
            "Embedding for sentence: [-0.3643453   0.25795665  0.03755159  0.5315398   0.3976411  -1.0674247\n",
            "  0.11472659  1.6081078  -0.38251352 -0.6300465  -0.41784865 -0.97512215\n",
            " -0.355375    0.9368922   0.51121545 -0.32474428  0.45556068 -0.7691965\n",
            "  0.21773009 -1.0507934   0.6645978   0.3189191   0.46742186 -0.48153353\n",
            "  0.10070119  0.13319293 -0.57382125  0.23557445 -0.47458205  0.33449417\n",
            "  1.1210634  -0.08922353  0.14361279 -0.7769903  -0.05737419  0.41630444\n",
            "  0.41312677  0.16835515  0.4205296  -0.69236284 -0.1883331  -0.8084911\n",
            " -0.42972177 -0.18904026 -0.0030507   0.21213698 -0.26248446 -0.09628768\n",
            "  0.43033552  0.4453331   0.79141337 -0.48728734  0.00733834 -0.5947863\n",
            " -0.05189939  0.45199504  0.5232624   0.02186956 -0.18440697  0.55863774\n",
            " -0.44774348  0.3410744   0.00395666 -0.03737148 -0.5719389   0.75604117\n",
            "  0.53008246  0.2989654  -0.89039266  0.95834744 -0.06919364 -0.18670908\n",
            "  0.7993022  -0.00807721  0.6170159  -0.35007736 -0.17673483  0.1699162\n",
            " -0.15792575 -0.1043059  -0.96973264 -0.21417478 -0.49102792  0.7508188\n",
            "  0.11140134 -0.08344908  0.599511    0.44705552  0.9703082   0.40657076\n",
            "  0.30067506  0.0679995   0.5152129  -0.0906148   0.74965394  0.6295272\n",
            "  0.27886057 -0.52841157 -0.0353019   0.1194607 ]\n"
          ]
        }
      ]
    },
    {
      "cell_type": "markdown",
      "source": [
        "# How to use pre-trained bin model"
      ],
      "metadata": {
        "id": "BNeOMePukCEh"
      }
    },
    {
      "cell_type": "code",
      "source": [
        "model = Word2Vec.load(\"/content/my_w2v_cbow_model.bin\");\n",
        "\n",
        "word_embedding = model.wv[\"hahahaha\"];\n",
        "\n",
        "# Get embedding for a sentence (average of word embeddings)\n",
        "sentence_embedding = numpy.mean([model.wv[word] for word in sentence.split()], axis=0)\n",
        "\n",
        "# Print embeddings\n",
        "print(\"Embedding for 'hahahaha':\", word_embedding)\n",
        "print(\"Embedding for sentence:\", sentence_embedding)"
      ],
      "metadata": {
        "colab": {
          "base_uri": "https://localhost:8080/"
        },
        "id": "uS5Z7sgUkD_U",
        "outputId": "1b1e7e2a-d50f-40ac-fccd-86fc1adf0ce8"
      },
      "execution_count": 10,
      "outputs": [
        {
          "output_type": "stream",
          "name": "stdout",
          "text": [
            "Embedding for 'hahahaha': [-0.18738927  0.1442243   0.03316022  0.29020005  0.22683218 -0.60077\n",
            "  0.05892345  0.89477766 -0.22453932 -0.34844005 -0.24348073 -0.55942726\n",
            " -0.19411692  0.5281236   0.28073955 -0.1886024   0.24290206 -0.4440072\n",
            "  0.11525843 -0.59573746  0.38506877  0.19162588  0.27489972 -0.27894804\n",
            "  0.05554562  0.07517253 -0.3183262   0.13347343 -0.27312526  0.19058599\n",
            "  0.63549614 -0.05007578  0.07939372 -0.42809433 -0.02284859  0.25274742\n",
            "  0.22368276  0.06020533  0.22574456 -0.40918073 -0.1085393  -0.4524283\n",
            " -0.25363633 -0.11836179  0.00925066  0.10730036 -0.15371625 -0.04617687\n",
            "  0.24828635  0.24411637  0.4564128  -0.30054536 -0.00606474 -0.3391953\n",
            " -0.02738485  0.2633174   0.29743156  0.00875307 -0.10586538  0.31810868\n",
            " -0.260664    0.18212415 -0.00578182 -0.03827673 -0.32264933  0.43497452\n",
            "  0.2843057   0.17330006 -0.49393442  0.53989035 -0.05238528 -0.09948247\n",
            "  0.46569052 -0.01113288  0.33967218 -0.18982595 -0.10650408  0.08757679\n",
            " -0.09847882 -0.0599691  -0.54511386 -0.10039828 -0.28727484  0.44358\n",
            "  0.04926038 -0.04424449  0.33981586  0.2712256   0.55571926  0.24863629\n",
            "  0.1543832   0.02763056  0.2903001  -0.06490674  0.4330767   0.35911506\n",
            "  0.1685268  -0.3220885  -0.0067942   0.06015211]\n",
            "Embedding for sentence: [-0.3643453   0.25795665  0.03755159  0.5315398   0.3976411  -1.0674247\n",
            "  0.11472659  1.6081078  -0.38251352 -0.6300465  -0.41784865 -0.97512215\n",
            " -0.355375    0.9368922   0.51121545 -0.32474428  0.45556068 -0.7691965\n",
            "  0.21773009 -1.0507934   0.6645978   0.3189191   0.46742186 -0.48153353\n",
            "  0.10070119  0.13319293 -0.57382125  0.23557445 -0.47458205  0.33449417\n",
            "  1.1210634  -0.08922353  0.14361279 -0.7769903  -0.05737419  0.41630444\n",
            "  0.41312677  0.16835515  0.4205296  -0.69236284 -0.1883331  -0.8084911\n",
            " -0.42972177 -0.18904026 -0.0030507   0.21213698 -0.26248446 -0.09628768\n",
            "  0.43033552  0.4453331   0.79141337 -0.48728734  0.00733834 -0.5947863\n",
            " -0.05189939  0.45199504  0.5232624   0.02186956 -0.18440697  0.55863774\n",
            " -0.44774348  0.3410744   0.00395666 -0.03737148 -0.5719389   0.75604117\n",
            "  0.53008246  0.2989654  -0.89039266  0.95834744 -0.06919364 -0.18670908\n",
            "  0.7993022  -0.00807721  0.6170159  -0.35007736 -0.17673483  0.1699162\n",
            " -0.15792575 -0.1043059  -0.96973264 -0.21417478 -0.49102792  0.7508188\n",
            "  0.11140134 -0.08344908  0.599511    0.44705552  0.9703082   0.40657076\n",
            "  0.30067506  0.0679995   0.5152129  -0.0906148   0.74965394  0.6295272\n",
            "  0.27886057 -0.52841157 -0.0353019   0.1194607 ]\n"
          ]
        }
      ]
    }
  ]
}