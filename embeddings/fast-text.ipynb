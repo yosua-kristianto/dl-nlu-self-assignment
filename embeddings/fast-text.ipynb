{
  "cells": [
    {
      "cell_type": "markdown",
      "metadata": {
        "id": "cADoB-aJgC2C"
      },
      "source": [
        "# Fast-Text Embedding\n",
        "\n",
        "Fast Text is another embedding method that uses statistical approach like GloVe.\n",
        "In my opinion, Fast-Text is easier than GloVe since its not intuitively easy to use in first place.\n",
        "\n",
        "As statistic approach, Fast-Text also required to be trained"
      ]
    },
    {
      "cell_type": "code",
      "execution_count": 7,
      "metadata": {
        "colab": {
          "base_uri": "https://localhost:8080/"
        },
        "id": "2BcnUnR-gBLU",
        "outputId": "13a7f3ef-bba1-40c7-cacd-266efe4661bf"
      },
      "outputs": [
        {
          "name": "stdout",
          "output_type": "stream",
          "text": [
            "Requirement already satisfied: gensim in /usr/local/lib/python3.10/dist-packages (4.3.2)\n",
            "Requirement already satisfied: tqdm in /usr/local/lib/python3.10/dist-packages (4.66.2)\n",
            "Requirement already satisfied: numpy>=1.18.5 in /usr/local/lib/python3.10/dist-packages (from gensim) (1.25.2)\n",
            "Requirement already satisfied: scipy>=1.7.0 in /usr/local/lib/python3.10/dist-packages (from gensim) (1.11.4)\n",
            "Requirement already satisfied: smart-open>=1.8.1 in /usr/local/lib/python3.10/dist-packages (from gensim) (6.4.0)\n"
          ]
        }
      ],
      "source": [
        "!pip install gensim tqdm"
      ]
    },
    {
      "cell_type": "code",
      "execution_count": 21,
      "metadata": {
        "id": "hhdJa_wggeht"
      },
      "outputs": [],
      "source": [
        "from gensim.models import FastText;\n",
        "import pandas;\n",
        "import re;\n",
        "from tqdm import tqdm;\n",
        "import numpy;\n",
        "\n",
        "from google.colab import drive;"
      ]
    },
    {
      "cell_type": "code",
      "execution_count": 4,
      "metadata": {
        "colab": {
          "base_uri": "https://localhost:8080/"
        },
        "id": "Z5j-tUDDgkSP",
        "outputId": "5057715d-e7d2-438e-aac0-256b82523c1f"
      },
      "outputs": [
        {
          "name": "stdout",
          "output_type": "stream",
          "text": [
            "Mounted at /content/drive\n"
          ]
        }
      ],
      "source": [
        "drive.mount(\"/content/drive\");"
      ]
    },
    {
      "cell_type": "markdown",
      "metadata": {
        "id": "t54FyJGBgtDP"
      },
      "source": [
        "## Data Loading and Preparation\n",
        "\n",
        "This part will took the dataset and load it to pandas."
      ]
    },
    {
      "cell_type": "code",
      "execution_count": 5,
      "metadata": {
        "colab": {
          "base_uri": "https://localhost:8080/",
          "height": 206
        },
        "id": "eqpkysGCgsbp",
        "outputId": "e673fc9b-42b6-46c4-f174-0618bafa7974"
      },
      "outputs": [
        {
          "data": {
            "application/vnd.google.colaboratory.intrinsic+json": {
              "summary": "{\n  \"name\": \"dataframe\",\n  \"rows\": 10806,\n  \"fields\": [\n    {\n      \"column\": \"sentimen\",\n      \"properties\": {\n        \"dtype\": \"number\",\n        \"std\": 0,\n        \"min\": -1,\n        \"max\": 1,\n        \"num_unique_values\": 3,\n        \"samples\": [\n          -1,\n          1,\n          0\n        ],\n        \"semantic_type\": \"\",\n        \"description\": \"\"\n      }\n    },\n    {\n      \"column\": \"Tweet\",\n      \"properties\": {\n        \"dtype\": \"string\",\n        \"num_unique_values\": 10101,\n        \"samples\": [\n          \"aku diam sbb nk tgk hg cari or tak tapi nah punah\",\n          \"mantab aku jadi penasaran pengen liat \",\n          \"baik\"\n        ],\n        \"semantic_type\": \"\",\n        \"description\": \"\"\n      }\n    },\n    {\n      \"column\": \"Unnamed: 2\",\n      \"properties\": {\n        \"dtype\": \"number\",\n        \"std\": null,\n        \"min\": null,\n        \"max\": null,\n        \"num_unique_values\": 0,\n        \"samples\": [],\n        \"semantic_type\": \"\",\n        \"description\": \"\"\n      }\n    }\n  ]\n}",
              "type": "dataframe",
              "variable_name": "dataframe"
            },
            "text/html": [
              "\n",
              "  <div id=\"df-c2106f06-835e-4e36-b712-39c47c297262\" class=\"colab-df-container\">\n",
              "    <div>\n",
              "<style scoped>\n",
              "    .dataframe tbody tr th:only-of-type {\n",
              "        vertical-align: middle;\n",
              "    }\n",
              "\n",
              "    .dataframe tbody tr th {\n",
              "        vertical-align: top;\n",
              "    }\n",
              "\n",
              "    .dataframe thead th {\n",
              "        text-align: right;\n",
              "    }\n",
              "</style>\n",
              "<table border=\"1\" class=\"dataframe\">\n",
              "  <thead>\n",
              "    <tr style=\"text-align: right;\">\n",
              "      <th></th>\n",
              "      <th>sentimen</th>\n",
              "      <th>Tweet</th>\n",
              "      <th>Unnamed: 2</th>\n",
              "    </tr>\n",
              "  </thead>\n",
              "  <tbody>\n",
              "    <tr>\n",
              "      <th>0</th>\n",
              "      <td>-1</td>\n",
              "      <td>lagu bosan apa yang aku save ni huhuhuhuhuhuhu...</td>\n",
              "      <td>NaN</td>\n",
              "    </tr>\n",
              "    <tr>\n",
              "      <th>1</th>\n",
              "      <td>-1</td>\n",
              "      <td>kita lanjutkan saja diam ini hingga kau dan ak...</td>\n",
              "      <td>NaN</td>\n",
              "    </tr>\n",
              "    <tr>\n",
              "      <th>2</th>\n",
              "      <td>1</td>\n",
              "      <td>doa rezeki tak putus inna haa zaa larizquna ma...</td>\n",
              "      <td>NaN</td>\n",
              "    </tr>\n",
              "    <tr>\n",
              "      <th>3</th>\n",
              "      <td>1</td>\n",
              "      <td>makasih loh ntar kita bagi hasil aku 99 9 sisa...</td>\n",
              "      <td>NaN</td>\n",
              "    </tr>\n",
              "    <tr>\n",
              "      <th>4</th>\n",
              "      <td>-1</td>\n",
              "      <td>aku tak faham betul jenis orang malaysia yang ...</td>\n",
              "      <td>NaN</td>\n",
              "    </tr>\n",
              "  </tbody>\n",
              "</table>\n",
              "</div>\n",
              "    <div class=\"colab-df-buttons\">\n",
              "\n",
              "  <div class=\"colab-df-container\">\n",
              "    <button class=\"colab-df-convert\" onclick=\"convertToInteractive('df-c2106f06-835e-4e36-b712-39c47c297262')\"\n",
              "            title=\"Convert this dataframe to an interactive table.\"\n",
              "            style=\"display:none;\">\n",
              "\n",
              "  <svg xmlns=\"http://www.w3.org/2000/svg\" height=\"24px\" viewBox=\"0 -960 960 960\">\n",
              "    <path d=\"M120-120v-720h720v720H120Zm60-500h600v-160H180v160Zm220 220h160v-160H400v160Zm0 220h160v-160H400v160ZM180-400h160v-160H180v160Zm440 0h160v-160H620v160ZM180-180h160v-160H180v160Zm440 0h160v-160H620v160Z\"/>\n",
              "  </svg>\n",
              "    </button>\n",
              "\n",
              "  <style>\n",
              "    .colab-df-container {\n",
              "      display:flex;\n",
              "      gap: 12px;\n",
              "    }\n",
              "\n",
              "    .colab-df-convert {\n",
              "      background-color: #E8F0FE;\n",
              "      border: none;\n",
              "      border-radius: 50%;\n",
              "      cursor: pointer;\n",
              "      display: none;\n",
              "      fill: #1967D2;\n",
              "      height: 32px;\n",
              "      padding: 0 0 0 0;\n",
              "      width: 32px;\n",
              "    }\n",
              "\n",
              "    .colab-df-convert:hover {\n",
              "      background-color: #E2EBFA;\n",
              "      box-shadow: 0px 1px 2px rgba(60, 64, 67, 0.3), 0px 1px 3px 1px rgba(60, 64, 67, 0.15);\n",
              "      fill: #174EA6;\n",
              "    }\n",
              "\n",
              "    .colab-df-buttons div {\n",
              "      margin-bottom: 4px;\n",
              "    }\n",
              "\n",
              "    [theme=dark] .colab-df-convert {\n",
              "      background-color: #3B4455;\n",
              "      fill: #D2E3FC;\n",
              "    }\n",
              "\n",
              "    [theme=dark] .colab-df-convert:hover {\n",
              "      background-color: #434B5C;\n",
              "      box-shadow: 0px 1px 3px 1px rgba(0, 0, 0, 0.15);\n",
              "      filter: drop-shadow(0px 1px 2px rgba(0, 0, 0, 0.3));\n",
              "      fill: #FFFFFF;\n",
              "    }\n",
              "  </style>\n",
              "\n",
              "    <script>\n",
              "      const buttonEl =\n",
              "        document.querySelector('#df-c2106f06-835e-4e36-b712-39c47c297262 button.colab-df-convert');\n",
              "      buttonEl.style.display =\n",
              "        google.colab.kernel.accessAllowed ? 'block' : 'none';\n",
              "\n",
              "      async function convertToInteractive(key) {\n",
              "        const element = document.querySelector('#df-c2106f06-835e-4e36-b712-39c47c297262');\n",
              "        const dataTable =\n",
              "          await google.colab.kernel.invokeFunction('convertToInteractive',\n",
              "                                                    [key], {});\n",
              "        if (!dataTable) return;\n",
              "\n",
              "        const docLinkHtml = 'Like what you see? Visit the ' +\n",
              "          '<a target=\"_blank\" href=https://colab.research.google.com/notebooks/data_table.ipynb>data table notebook</a>'\n",
              "          + ' to learn more about interactive tables.';\n",
              "        element.innerHTML = '';\n",
              "        dataTable['output_type'] = 'display_data';\n",
              "        await google.colab.output.renderOutput(dataTable, element);\n",
              "        const docLink = document.createElement('div');\n",
              "        docLink.innerHTML = docLinkHtml;\n",
              "        element.appendChild(docLink);\n",
              "      }\n",
              "    </script>\n",
              "  </div>\n",
              "\n",
              "\n",
              "<div id=\"df-54e65fba-ae81-4dae-9830-808963a76423\">\n",
              "  <button class=\"colab-df-quickchart\" onclick=\"quickchart('df-54e65fba-ae81-4dae-9830-808963a76423')\"\n",
              "            title=\"Suggest charts\"\n",
              "            style=\"display:none;\">\n",
              "\n",
              "<svg xmlns=\"http://www.w3.org/2000/svg\" height=\"24px\"viewBox=\"0 0 24 24\"\n",
              "     width=\"24px\">\n",
              "    <g>\n",
              "        <path d=\"M19 3H5c-1.1 0-2 .9-2 2v14c0 1.1.9 2 2 2h14c1.1 0 2-.9 2-2V5c0-1.1-.9-2-2-2zM9 17H7v-7h2v7zm4 0h-2V7h2v10zm4 0h-2v-4h2v4z\"/>\n",
              "    </g>\n",
              "</svg>\n",
              "  </button>\n",
              "\n",
              "<style>\n",
              "  .colab-df-quickchart {\n",
              "      --bg-color: #E8F0FE;\n",
              "      --fill-color: #1967D2;\n",
              "      --hover-bg-color: #E2EBFA;\n",
              "      --hover-fill-color: #174EA6;\n",
              "      --disabled-fill-color: #AAA;\n",
              "      --disabled-bg-color: #DDD;\n",
              "  }\n",
              "\n",
              "  [theme=dark] .colab-df-quickchart {\n",
              "      --bg-color: #3B4455;\n",
              "      --fill-color: #D2E3FC;\n",
              "      --hover-bg-color: #434B5C;\n",
              "      --hover-fill-color: #FFFFFF;\n",
              "      --disabled-bg-color: #3B4455;\n",
              "      --disabled-fill-color: #666;\n",
              "  }\n",
              "\n",
              "  .colab-df-quickchart {\n",
              "    background-color: var(--bg-color);\n",
              "    border: none;\n",
              "    border-radius: 50%;\n",
              "    cursor: pointer;\n",
              "    display: none;\n",
              "    fill: var(--fill-color);\n",
              "    height: 32px;\n",
              "    padding: 0;\n",
              "    width: 32px;\n",
              "  }\n",
              "\n",
              "  .colab-df-quickchart:hover {\n",
              "    background-color: var(--hover-bg-color);\n",
              "    box-shadow: 0 1px 2px rgba(60, 64, 67, 0.3), 0 1px 3px 1px rgba(60, 64, 67, 0.15);\n",
              "    fill: var(--button-hover-fill-color);\n",
              "  }\n",
              "\n",
              "  .colab-df-quickchart-complete:disabled,\n",
              "  .colab-df-quickchart-complete:disabled:hover {\n",
              "    background-color: var(--disabled-bg-color);\n",
              "    fill: var(--disabled-fill-color);\n",
              "    box-shadow: none;\n",
              "  }\n",
              "\n",
              "  .colab-df-spinner {\n",
              "    border: 2px solid var(--fill-color);\n",
              "    border-color: transparent;\n",
              "    border-bottom-color: var(--fill-color);\n",
              "    animation:\n",
              "      spin 1s steps(1) infinite;\n",
              "  }\n",
              "\n",
              "  @keyframes spin {\n",
              "    0% {\n",
              "      border-color: transparent;\n",
              "      border-bottom-color: var(--fill-color);\n",
              "      border-left-color: var(--fill-color);\n",
              "    }\n",
              "    20% {\n",
              "      border-color: transparent;\n",
              "      border-left-color: var(--fill-color);\n",
              "      border-top-color: var(--fill-color);\n",
              "    }\n",
              "    30% {\n",
              "      border-color: transparent;\n",
              "      border-left-color: var(--fill-color);\n",
              "      border-top-color: var(--fill-color);\n",
              "      border-right-color: var(--fill-color);\n",
              "    }\n",
              "    40% {\n",
              "      border-color: transparent;\n",
              "      border-right-color: var(--fill-color);\n",
              "      border-top-color: var(--fill-color);\n",
              "    }\n",
              "    60% {\n",
              "      border-color: transparent;\n",
              "      border-right-color: var(--fill-color);\n",
              "    }\n",
              "    80% {\n",
              "      border-color: transparent;\n",
              "      border-right-color: var(--fill-color);\n",
              "      border-bottom-color: var(--fill-color);\n",
              "    }\n",
              "    90% {\n",
              "      border-color: transparent;\n",
              "      border-bottom-color: var(--fill-color);\n",
              "    }\n",
              "  }\n",
              "</style>\n",
              "\n",
              "  <script>\n",
              "    async function quickchart(key) {\n",
              "      const quickchartButtonEl =\n",
              "        document.querySelector('#' + key + ' button');\n",
              "      quickchartButtonEl.disabled = true;  // To prevent multiple clicks.\n",
              "      quickchartButtonEl.classList.add('colab-df-spinner');\n",
              "      try {\n",
              "        const charts = await google.colab.kernel.invokeFunction(\n",
              "            'suggestCharts', [key], {});\n",
              "      } catch (error) {\n",
              "        console.error('Error during call to suggestCharts:', error);\n",
              "      }\n",
              "      quickchartButtonEl.classList.remove('colab-df-spinner');\n",
              "      quickchartButtonEl.classList.add('colab-df-quickchart-complete');\n",
              "    }\n",
              "    (() => {\n",
              "      let quickchartButtonEl =\n",
              "        document.querySelector('#df-54e65fba-ae81-4dae-9830-808963a76423 button');\n",
              "      quickchartButtonEl.style.display =\n",
              "        google.colab.kernel.accessAllowed ? 'block' : 'none';\n",
              "    })();\n",
              "  </script>\n",
              "</div>\n",
              "    </div>\n",
              "  </div>\n"
            ],
            "text/plain": [
              "   sentimen                                              Tweet  Unnamed: 2\n",
              "0        -1  lagu bosan apa yang aku save ni huhuhuhuhuhuhu...         NaN\n",
              "1        -1  kita lanjutkan saja diam ini hingga kau dan ak...         NaN\n",
              "2         1  doa rezeki tak putus inna haa zaa larizquna ma...         NaN\n",
              "3         1  makasih loh ntar kita bagi hasil aku 99 9 sisa...         NaN\n",
              "4        -1  aku tak faham betul jenis orang malaysia yang ...         NaN"
            ]
          },
          "execution_count": 5,
          "metadata": {},
          "output_type": "execute_result"
        }
      ],
      "source": [
        "dataframe = pandas.read_csv(\"/content/drive/MyDrive/Collab Dataset/nlp-dl-self-assignment/data.csv\");\n",
        "dataframe.head()"
      ]
    },
    {
      "cell_type": "markdown",
      "metadata": {
        "id": "MpyCqLrrhWSQ"
      },
      "source": [
        "This part will pre-process the data by this methodology below:\n",
        "\n",
        "1. For every sentence within dataframe[\"Tweet\"]\n",
        "1.1 Remove punctuations from the sentence\n",
        "1.2 Split the sentence by white spaces\n",
        "1.3 Save the splitted array of words into array called \"data\""
      ]
    },
    {
      "cell_type": "code",
      "execution_count": 9,
      "metadata": {
        "colab": {
          "base_uri": "https://localhost:8080/"
        },
        "id": "QbWQ_G2jhVY_",
        "outputId": "a20fdb23-3077-4bf1-e135-1836d6a91e79"
      },
      "outputs": [
        {
          "name": "stdout",
          "output_type": "stream",
          "text": [
            "Pre-process tweet data\n"
          ]
        },
        {
          "name": "stderr",
          "output_type": "stream",
          "text": [
            "100%|██████████| 10806/10806 [00:00<00:00, 252683.85it/s]\n"
          ]
        }
      ],
      "source": [
        "data = [];\n",
        "\n",
        "print(\"Pre-process tweet data\")\n",
        "for sentence in tqdm(dataframe[\"Tweet\"]):\n",
        "    punct_regex = r'[^\\w\\s]';\n",
        "    sentence = re.sub(punct_regex, \"\", sentence);\n",
        "\n",
        "    splitted_sentence = sentence.split(\" \");\n",
        "    data.append(splitted_sentence);"
      ]
    },
    {
      "cell_type": "markdown",
      "metadata": {
        "id": "sMjtWq6_iiZ3"
      },
      "source": [
        "## Model Training\n",
        "\n",
        "Before we train FastText, we have to conclude the model configuration / hyperparameter first. But thanks to `gensim`, they provided pipeline configuration so we shouldn't train things manually like GloVe's do."
      ]
    },
    {
      "cell_type": "code",
      "execution_count": 10,
      "metadata": {
        "id": "Ry5JRDRRie7A"
      },
      "outputs": [],
      "source": [
        "model = FastText(data, vector_size = 100, window = 5, min_count = 1, workers = 4, sg = 1);"
      ]
    },
    {
      "cell_type": "code",
      "execution_count": 11,
      "metadata": {
        "id": "VjFQHj5Xi5Gu"
      },
      "outputs": [],
      "source": [
        "model.save(\"my_fasttext_model.bin\")"
      ]
    },
    {
      "cell_type": "markdown",
      "metadata": {
        "id": "Jbyx2oozjXNe"
      },
      "source": [
        "## Checking Word Embeddings"
      ]
    },
    {
      "cell_type": "code",
      "execution_count": 16,
      "metadata": {
        "colab": {
          "base_uri": "https://localhost:8080/"
        },
        "id": "i3dDMPvIjaiQ",
        "outputId": "1cdc488a-ca02-4224-8d8b-7412c42f9a80"
      },
      "outputs": [
        {
          "name": "stdout",
          "output_type": "stream",
          "text": [
            "Embedding for 'aku': [-0.2118858  -0.46510908  0.07356274  0.5000337   0.15858892  0.01225958\n",
            "  0.54230964  0.3593001  -0.45987177 -0.04324636 -0.36038065 -0.22016703\n",
            " -0.58985645  0.3964743  -0.4786581  -0.18134038  0.91035175  0.26516315\n",
            " -0.01888126 -0.24757151  0.7911123   0.26244837 -0.20457892  0.27658257\n",
            " -0.4462392  -0.14236915  0.1056407   0.3094996  -0.10937995 -0.11546614\n",
            "  0.02850477 -0.12288569 -0.04496423  0.1452247   0.33418927  0.35902923\n",
            "  0.17369899  0.15441279  0.08067826 -0.11640466 -0.23620823 -0.38168007\n",
            " -0.22793981 -0.13616744  0.43462357  0.3934606  -0.29961938 -0.32402587\n",
            "  0.44561595 -0.49166292 -0.09167553 -0.18308903  0.08269393  0.37085322\n",
            " -0.08763634  0.11561795  0.28473616 -0.09325995  0.01993903 -0.1463585\n",
            " -0.10860904  0.4987945  -0.3746503   0.6226495   0.44252872  0.34606388\n",
            "  0.03923747 -0.13738218  0.24354866  0.19789657 -0.4108645   0.727028\n",
            "  0.36057258 -0.31582418  0.45508984 -0.3645546   0.22004052 -0.50036615\n",
            " -0.41709575  0.3863687   0.20096831 -0.15696003 -0.21236226  0.41484967\n",
            "  0.05400448  0.439816    0.4046428   0.06294236  0.30478644  0.12586491\n",
            " -0.07962973  0.7323968   0.04502233 -0.17012389 -0.5059315   0.2284755\n",
            " -0.42415312  0.24091442 -0.18252356  0.36963218]\n",
            "Embedding for sentence: [-0.25637904 -0.49675164  0.01663255  0.3774076   0.3719913   0.0401661\n",
            "  0.6247586   0.39896175 -0.36210734 -0.25831288 -0.39938372 -0.20505019\n",
            " -0.504527    0.46336251 -0.48187608 -0.16727892  0.83464634  0.04526373\n",
            " -0.05765426 -0.39366537  0.6246868   0.07992125 -0.35349292  0.18127196\n",
            " -0.3893674  -0.06630776  0.2889991   0.16605353 -0.23404343 -0.06675697\n",
            "  0.03180471 -0.2078877   0.18761517  0.04657815  0.17228438  0.3553656\n",
            "  0.1316412   0.01406321 -0.08953635 -0.24605086 -0.5150683  -0.5103672\n",
            "  0.029264    0.08783503  0.44694775  0.32992247 -0.34613386 -0.16770378\n",
            "  0.40091795 -0.37275022 -0.29229143 -0.11139075  0.12181751  0.4733308\n",
            " -0.09999986  0.03164466  0.19702388 -0.17844908  0.11247255 -0.11230733\n",
            "  0.10191415  0.44361538 -0.40246803  0.55503386  0.36891466  0.27320364\n",
            "  0.12747973 -0.00624366  0.27041298  0.3699624  -0.13781798  0.8435918\n",
            "  0.2588978  -0.30536872  0.46334186 -0.3696155   0.32362792 -0.44843897\n",
            " -0.4354024   0.32006377  0.26590878 -0.21776323 -0.1304942   0.3064118\n",
            "  0.05395966  0.28920227  0.35407585  0.23059177  0.2728653   0.14727734\n",
            " -0.23704883  0.41056475  0.22722808 -0.03909894 -0.5317372   0.29996735\n",
            " -0.49786592  0.21781906 -0.06571723  0.4052508 ]\n"
          ]
        }
      ],
      "source": [
        "word_embedding = model.wv[\"aku\"];\n",
        "\n",
        "# Get embedding for a sentence (average of word embeddings)\n",
        "sentence_embedding = numpy.mean([model.wv[word] for word in sentence.split()], axis=0)\n",
        "\n",
        "# Print embeddings\n",
        "print(\"Embedding for 'aku':\", word_embedding)\n",
        "print(\"Embedding for sentence:\", sentence_embedding)"
      ]
    },
    {
      "cell_type": "markdown",
      "metadata": {
        "id": "BNeOMePukCEh"
      },
      "source": [
        "# How to use pre-trained bin model"
      ]
    },
    {
      "cell_type": "code",
      "execution_count": 23,
      "metadata": {
        "colab": {
          "base_uri": "https://localhost:8080/"
        },
        "id": "uS5Z7sgUkD_U",
        "outputId": "d6d3dba3-cee9-4e16-ed52-14f0f632faa2"
      },
      "outputs": [
        {
          "name": "stdout",
          "output_type": "stream",
          "text": [
            "Embedding for 'hahahaha': [-0.18335165 -0.34334713  0.04389186  0.48133576  0.5801304  -0.2742045\n",
            "  0.5116993   0.7824809  -0.13718823 -0.04707021 -0.46549746 -0.21550377\n",
            " -0.63309103  0.7176306  -0.38831735 -0.16682045  0.89352465  0.19272158\n",
            " -0.17004365 -0.41392803  1.0172237   0.12615032 -0.37084568  0.29657534\n",
            " -0.370208   -0.6376893   0.24954556  0.21593751 -0.06407838  0.00776209\n",
            " -0.0479213   0.07923892  0.1431387   0.06187275  0.17086685  0.3097347\n",
            " -0.10890402 -0.03695381  0.13780384 -0.00698729 -0.6498753  -0.78965616\n",
            " -0.10598212 -0.10334729  0.18594596  0.24666108 -0.52221304 -0.5148595\n",
            "  0.09788939 -0.39837727 -0.09735121  0.08195758  0.23670644  0.37776226\n",
            " -0.12358955  0.03011106  0.26545256  0.01752131  0.32981822 -0.35291848\n",
            " -0.04962087  0.2389417  -0.28921485  0.61568934  0.53317904  0.5684278\n",
            " -0.10133695  0.02910247  0.32810807  0.05823603 -0.44150966  0.5480923\n",
            "  0.29240164 -0.5463312   0.24345692 -0.50213045  0.5810929  -0.540034\n",
            " -0.3065107   0.33544046  0.13275115 -0.2147611  -0.08516032  0.3981991\n",
            " -0.02906676  0.5072833   0.31566182  0.24448417  0.25205204  0.03736605\n",
            " -0.20433284  0.51064956  0.12841924 -0.18276326 -0.43290082  0.17739908\n",
            " -0.6606308   0.36976588 -0.22853406  0.28563172]\n",
            "Embedding for sentence: [-0.25637904 -0.49675164  0.01663255  0.3774076   0.3719913   0.0401661\n",
            "  0.6247586   0.39896175 -0.36210734 -0.25831288 -0.39938372 -0.20505019\n",
            " -0.504527    0.46336251 -0.48187608 -0.16727892  0.83464634  0.04526373\n",
            " -0.05765426 -0.39366537  0.6246868   0.07992125 -0.35349292  0.18127196\n",
            " -0.3893674  -0.06630776  0.2889991   0.16605353 -0.23404343 -0.06675697\n",
            "  0.03180471 -0.2078877   0.18761517  0.04657815  0.17228438  0.3553656\n",
            "  0.1316412   0.01406321 -0.08953635 -0.24605086 -0.5150683  -0.5103672\n",
            "  0.029264    0.08783503  0.44694775  0.32992247 -0.34613386 -0.16770378\n",
            "  0.40091795 -0.37275022 -0.29229143 -0.11139075  0.12181751  0.4733308\n",
            " -0.09999986  0.03164466  0.19702388 -0.17844908  0.11247255 -0.11230733\n",
            "  0.10191415  0.44361538 -0.40246803  0.55503386  0.36891466  0.27320364\n",
            "  0.12747973 -0.00624366  0.27041298  0.3699624  -0.13781798  0.8435918\n",
            "  0.2588978  -0.30536872  0.46334186 -0.3696155   0.32362792 -0.44843897\n",
            " -0.4354024   0.32006377  0.26590878 -0.21776323 -0.1304942   0.3064118\n",
            "  0.05395966  0.28920227  0.35407585  0.23059177  0.2728653   0.14727734\n",
            " -0.23704883  0.41056475  0.22722808 -0.03909894 -0.5317372   0.29996735\n",
            " -0.49786592  0.21781906 -0.06571723  0.4052508 ]\n"
          ]
        }
      ],
      "source": [
        "model = FastText.load(\"/content/my_fasttext_model.bin\");\n",
        "\n",
        "word_embedding = model.wv[\"hahahaha\"];\n",
        "\n",
        "# Get embedding for a sentence (average of word embeddings)\n",
        "sentence_embedding = numpy.mean([model.wv[word] for word in sentence.split()], axis=0)\n",
        "\n",
        "# Print embeddings\n",
        "print(\"Embedding for 'hahahaha':\", word_embedding)\n",
        "print(\"Embedding for sentence:\", sentence_embedding)"
      ]
    }
  ],
  "metadata": {
    "accelerator": "GPU",
    "colab": {
      "gpuType": "L4",
      "machine_shape": "hm",
      "provenance": []
    },
    "kernelspec": {
      "display_name": "Python 3",
      "name": "python3"
    },
    "language_info": {
      "name": "python"
    }
  },
  "nbformat": 4,
  "nbformat_minor": 0
}
